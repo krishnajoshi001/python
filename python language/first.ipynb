{
 "cells": [
  {
   "cell_type": "code",
   "execution_count": 45,
   "id": "5148ea0c-9d4d-41c0-8f73-7b8c8816cd8c",
   "metadata": {},
   "outputs": [
    {
     "name": "stdout",
     "output_type": "stream",
     "text": [
      "hello\n"
     ]
    }
   ],
   "source": [
    "print(\"hello\")"
   ]
  },
  {
   "cell_type": "code",
   "execution_count": 46,
   "id": "79e54513-f564-4044-9992-c26756324eb5",
   "metadata": {},
   "outputs": [
    {
     "data": {
      "text/plain": [
       "2"
      ]
     },
     "execution_count": 46,
     "metadata": {},
     "output_type": "execute_result"
    }
   ],
   "source": [
    "1+1"
   ]
  },
  {
   "cell_type": "code",
   "execution_count": 47,
   "id": "4aa2a517-c93a-4f4c-b08d-eebbcfaed16b",
   "metadata": {},
   "outputs": [
    {
     "name": "stdout",
     "output_type": "stream",
     "text": [
      "for directly running we can also do shift +enter\n"
     ]
    }
   ],
   "source": [
    "print(\"for directly running we can also do shift +enter\")"
   ]
  },
  {
   "cell_type": "code",
   "execution_count": 48,
   "id": "b1a28f13-77ff-4e6c-9059-0585553d94c8",
   "metadata": {},
   "outputs": [],
   "source": [
    "t=10"
   ]
  },
  {
   "cell_type": "code",
   "execution_count": 49,
   "id": "870d6812-ce45-4f7d-a441-2345a6391ac5",
   "metadata": {},
   "outputs": [
    {
     "data": {
      "text/plain": [
       "10"
      ]
     },
     "execution_count": 49,
     "metadata": {},
     "output_type": "execute_result"
    }
   ],
   "source": [
    "t"
   ]
  },
  {
   "cell_type": "code",
   "execution_count": 50,
   "id": "dc760c48-e8f6-4133-9640-b82e45465a61",
   "metadata": {},
   "outputs": [
    {
     "data": {
      "text/plain": [
       "int"
      ]
     },
     "execution_count": 50,
     "metadata": {},
     "output_type": "execute_result"
    }
   ],
   "source": [
    "type(t)"
   ]
  },
  {
   "cell_type": "code",
   "execution_count": 3,
   "id": "9485d922-ff37-443e-be05-7038134ef851",
   "metadata": {},
   "outputs": [],
   "source": [
    "krishna ='knj'"
   ]
  },
  {
   "cell_type": "code",
   "execution_count": 4,
   "id": "1aad7ca5-3987-4b1f-991f-ef3d08ae7e2a",
   "metadata": {},
   "outputs": [
    {
     "data": {
      "text/plain": [
       "'knj'"
      ]
     },
     "execution_count": 4,
     "metadata": {},
     "output_type": "execute_result"
    }
   ],
   "source": [
    "krishna"
   ]
  },
  {
   "cell_type": "code",
   "execution_count": 53,
   "id": "e60a26dd-a71a-4254-8b6c-d7f03c9288c7",
   "metadata": {},
   "outputs": [
    {
     "data": {
      "text/plain": [
       "str"
      ]
     },
     "execution_count": 53,
     "metadata": {},
     "output_type": "execute_result"
    }
   ],
   "source": [
    "type(krishna)"
   ]
  },
  {
   "cell_type": "code",
   "execution_count": 4,
   "id": "216cb8c9-ba4b-41a3-985f-eb03c857d6ec",
   "metadata": {},
   "outputs": [],
   "source": [
    "c=3.4"
   ]
  },
  {
   "cell_type": "code",
   "execution_count": 5,
   "id": "bd69219d-631f-4795-a375-eafae448258e",
   "metadata": {},
   "outputs": [
    {
     "data": {
      "text/plain": [
       "3.4"
      ]
     },
     "execution_count": 5,
     "metadata": {},
     "output_type": "execute_result"
    }
   ],
   "source": [
    "c"
   ]
  },
  {
   "cell_type": "code",
   "execution_count": 6,
   "id": "58745edd-e92b-48a0-9b93-a858f0102c9a",
   "metadata": {},
   "outputs": [
    {
     "data": {
      "text/plain": [
       "float"
      ]
     },
     "execution_count": 6,
     "metadata": {},
     "output_type": "execute_result"
    }
   ],
   "source": [
    "type(c)"
   ]
  },
  {
   "cell_type": "code",
   "execution_count": 7,
   "id": "6ddf5f1d-e034-400d-8486-2831b6128787",
   "metadata": {},
   "outputs": [
    {
     "data": {
      "text/plain": [
       "(5+8j)"
      ]
     },
     "execution_count": 7,
     "metadata": {},
     "output_type": "execute_result"
    }
   ],
   "source": [
    "v=5+8j\n",
    "v"
   ]
  },
  {
   "cell_type": "code",
   "execution_count": 8,
   "id": "56d6aa8e-208e-476b-934d-17c9101e8f1b",
   "metadata": {},
   "outputs": [
    {
     "data": {
      "text/plain": [
       "5.0"
      ]
     },
     "execution_count": 8,
     "metadata": {},
     "output_type": "execute_result"
    }
   ],
   "source": [
    "v.real"
   ]
  },
  {
   "cell_type": "code",
   "execution_count": 9,
   "id": "c287f365-e986-41d5-82a5-1e0af439e2a0",
   "metadata": {},
   "outputs": [
    {
     "data": {
      "text/plain": [
       "8.0"
      ]
     },
     "execution_count": 9,
     "metadata": {},
     "output_type": "execute_result"
    }
   ],
   "source": [
    "v.imag"
   ]
  },
  {
   "cell_type": "code",
   "execution_count": 10,
   "id": "50fb72c8-3a05-4d4b-9f37-c156e7c6fef7",
   "metadata": {},
   "outputs": [
    {
     "ename": "SyntaxError",
     "evalue": "invalid syntax (1457456516.py, line 1)",
     "output_type": "error",
     "traceback": [
      "  \u001b[36mCell\u001b[39m\u001b[36m \u001b[39m\u001b[32mIn[10]\u001b[39m\u001b[32m, line 1\u001b[39m\n\u001b[31m    \u001b[39m\u001b[31mkrishna(0:4)\u001b[39m\n             ^\n\u001b[31mSyntaxError\u001b[39m\u001b[31m:\u001b[39m invalid syntax\n"
     ]
    }
   ],
   "source": [
    "krishna(0:4)"
   ]
  },
  {
   "cell_type": "code",
   "execution_count": 11,
   "id": "e69781c7-aea2-42f1-bd30-d4cbd4e875ec",
   "metadata": {},
   "outputs": [
    {
     "data": {
      "text/plain": [
       "'knj'"
      ]
     },
     "execution_count": 11,
     "metadata": {},
     "output_type": "execute_result"
    }
   ],
   "source": [
    "krishna[0:4]"
   ]
  },
  {
   "cell_type": "code",
   "execution_count": 12,
   "id": "689de00b-494a-4aa6-9a92-bd184bdd81a5",
   "metadata": {},
   "outputs": [
    {
     "data": {
      "text/plain": [
       "'kj'"
      ]
     },
     "execution_count": 12,
     "metadata": {},
     "output_type": "execute_result"
    }
   ],
   "source": [
    "krishna[0:7:2]"
   ]
  },
  {
   "cell_type": "code",
   "execution_count": 13,
   "id": "c958315a-dc2a-460a-b165-e36ccec0ec9f",
   "metadata": {},
   "outputs": [
    {
     "data": {
      "text/plain": [
       "'kj'"
      ]
     },
     "execution_count": 13,
     "metadata": {},
     "output_type": "execute_result"
    }
   ],
   "source": [
    "krishna[::2] #from where to start upto which jump"
   ]
  },
  {
   "cell_type": "code",
   "execution_count": 14,
   "id": "d25eb6bb-d85a-4315-b2ab-f5a5e8dcda2f",
   "metadata": {},
   "outputs": [
    {
     "data": {
      "text/plain": [
       "'j'"
      ]
     },
     "execution_count": 14,
     "metadata": {},
     "output_type": "execute_result"
    }
   ],
   "source": [
    "krishna[-1]"
   ]
  },
  {
   "cell_type": "code",
   "execution_count": 15,
   "id": "4e2735b3-8137-45b4-9db0-235805c41a37",
   "metadata": {},
   "outputs": [
    {
     "data": {
      "text/plain": [
       "''"
      ]
     },
     "execution_count": 15,
     "metadata": {},
     "output_type": "execute_result"
    }
   ],
   "source": [
    " krishna[-1:-7]  #because jump +1 ka h"
   ]
  },
  {
   "cell_type": "code",
   "execution_count": 16,
   "id": "176c789f-0ef7-4b99-b077-71279bdab6c8",
   "metadata": {},
   "outputs": [
    {
     "data": {
      "text/plain": [
       "'jnk'"
      ]
     },
     "execution_count": 16,
     "metadata": {},
     "output_type": "execute_result"
    }
   ],
   "source": [
    "krishna[::-1] #reverse"
   ]
  },
  {
   "cell_type": "code",
   "execution_count": 17,
   "id": "92b6ea7c-c685-4bfe-9288-173bfb0629a5",
   "metadata": {},
   "outputs": [
    {
     "data": {
      "text/plain": [
       "''"
      ]
     },
     "execution_count": 17,
     "metadata": {},
     "output_type": "execute_result"
    }
   ],
   "source": [
    "krishna[2:7:-1] #because jump -1 ka h aur move plus  rhe h"
   ]
  },
  {
   "cell_type": "code",
   "execution_count": 18,
   "id": "5b0850fd-3b3b-4681-998b-711b8f9a9bfc",
   "metadata": {},
   "outputs": [
    {
     "data": {
      "text/plain": [
       "'jnk'"
      ]
     },
     "execution_count": 18,
     "metadata": {},
     "output_type": "execute_result"
    }
   ],
   "source": [
    "krishna[-1:-4:-1]"
   ]
  },
  {
   "cell_type": "code",
   "execution_count": 5,
   "id": "1138cb43-36e8-4a9d-b94f-9549c5faa0aa",
   "metadata": {},
   "outputs": [
    {
     "data": {
      "text/plain": [
       "''"
      ]
     },
     "execution_count": 5,
     "metadata": {},
     "output_type": "execute_result"
    }
   ],
   "source": [
    "krishna[7:2:-1]"
   ]
  },
  {
   "cell_type": "code",
   "execution_count": 20,
   "id": "63a964ec-c735-47d7-a695-131bcb022eff",
   "metadata": {},
   "outputs": [
    {
     "data": {
      "text/plain": [
       "''"
      ]
     },
     "execution_count": 20,
     "metadata": {},
     "output_type": "execute_result"
    }
   ],
   "source": [
    "krishna[7:2:-1] # 2 is upper bound with no close bracket"
   ]
  },
  {
   "cell_type": "code",
   "execution_count": 21,
   "id": "33a96a85-d595-4ba4-b605-b5f0ede9e72f",
   "metadata": {},
   "outputs": [
    {
     "ename": "TypeError",
     "evalue": "'int' object is not subscriptable",
     "output_type": "error",
     "traceback": [
      "\u001b[31m---------------------------------------------------------------------------\u001b[39m",
      "\u001b[31mTypeError\u001b[39m                                 Traceback (most recent call last)",
      "\u001b[36mCell\u001b[39m\u001b[36m \u001b[39m\u001b[32mIn[21]\u001b[39m\u001b[32m, line 2\u001b[39m\n\u001b[32m      1\u001b[39m k=\u001b[32m100\u001b[39m\n\u001b[32m----> \u001b[39m\u001b[32m2\u001b[39m \u001b[43mk\u001b[49m\u001b[43m[\u001b[49m\u001b[32;43m2\u001b[39;49m\u001b[43m]\u001b[49m\n",
      "\u001b[31mTypeError\u001b[39m: 'int' object is not subscriptable"
     ]
    }
   ],
   "source": [
    "k=100\n",
    "k[2]"
   ]
  },
  {
   "cell_type": "code",
   "execution_count": 22,
   "id": "eea8ee35-9cf9-4635-aaab-421a7e21ffc1",
   "metadata": {},
   "outputs": [
    {
     "data": {
      "text/plain": [
       "23"
      ]
     },
     "execution_count": 22,
     "metadata": {},
     "output_type": "execute_result"
    }
   ],
   "source": [
    "s1=\"this is my string class\"\n",
    "#inbuilt function in string\n",
    "len(s1)"
   ]
  },
  {
   "cell_type": "code",
   "execution_count": 23,
   "id": "ccbb557e-7797-42a1-a30a-59a2f50057b7",
   "metadata": {},
   "outputs": [
    {
     "data": {
      "text/plain": [
       "3"
      ]
     },
     "execution_count": 23,
     "metadata": {},
     "output_type": "execute_result"
    }
   ],
   "source": [
    "s1.find('s') # it will give where first s is present"
   ]
  },
  {
   "cell_type": "code",
   "execution_count": 24,
   "id": "4703c7cb-112e-4130-b0b7-f98182341075",
   "metadata": {},
   "outputs": [
    {
     "data": {
      "text/plain": [
       "18"
      ]
     },
     "execution_count": 24,
     "metadata": {},
     "output_type": "execute_result"
    }
   ],
   "source": [
    "s1.find('class')"
   ]
  },
  {
   "cell_type": "code",
   "execution_count": 25,
   "id": "2758b608-5de7-4c39-86c9-c55b089de7b9",
   "metadata": {},
   "outputs": [
    {
     "data": {
      "text/plain": [
       "-1"
      ]
     },
     "execution_count": 25,
     "metadata": {},
     "output_type": "execute_result"
    }
   ],
   "source": [
    "s1.find('krishna')"
   ]
  },
  {
   "cell_type": "code",
   "execution_count": 26,
   "id": "769ba5ca-ff9b-43bb-bc8a-869821f7d87c",
   "metadata": {},
   "outputs": [
    {
     "data": {
      "text/plain": [
       "19"
      ]
     },
     "execution_count": 26,
     "metadata": {},
     "output_type": "execute_result"
    }
   ],
   "source": [
    "s1.find(\"lass\") # finds the lower index of substring\n",
    "#for finding the use of any functio just do shift+tab"
   ]
  },
  {
   "cell_type": "code",
   "execution_count": 27,
   "id": "b7728dc2-a1c3-48de-a1ad-424d580b34b0",
   "metadata": {},
   "outputs": [
    {
     "data": {
      "text/plain": [
       "3"
      ]
     },
     "execution_count": 27,
     "metadata": {},
     "output_type": "execute_result"
    }
   ],
   "source": [
    "# string ka name rkho dot lagao fr tab dabao sare function aa jayenge\n",
    "s1.count('i')"
   ]
  },
  {
   "cell_type": "code",
   "execution_count": 28,
   "id": "e3c500f5-f925-4c9a-bc5c-eead5af93450",
   "metadata": {},
   "outputs": [
    {
     "data": {
      "text/plain": [
       "'THIS IS MY STRING CLASS'"
      ]
     },
     "execution_count": 28,
     "metadata": {},
     "output_type": "execute_result"
    }
   ],
   "source": [
    "s1.upper()"
   ]
  },
  {
   "cell_type": "code",
   "execution_count": 29,
   "id": "7149c9db-10e0-4678-bafb-b567b29d2dab",
   "metadata": {},
   "outputs": [
    {
     "data": {
      "text/plain": [
       "'Knj'"
      ]
     },
     "execution_count": 29,
     "metadata": {},
     "output_type": "execute_result"
    }
   ],
   "source": [
    "krishna.title() #title m sare words ka first letter is capital"
   ]
  },
  {
   "cell_type": "code",
   "execution_count": 30,
   "id": "84c17af6-4766-40e8-8af5-c313c21af432",
   "metadata": {},
   "outputs": [
    {
     "data": {
      "text/plain": [
       "'This is my string class'"
      ]
     },
     "execution_count": 30,
     "metadata": {},
     "output_type": "execute_result"
    }
   ],
   "source": [
    "s1.capitalize() #only first word ka pehla letter capital "
   ]
  },
  {
   "cell_type": "code",
   "execution_count": 31,
   "id": "246918df-dcc8-46c5-8ce7-0e8a9ac81fd6",
   "metadata": {},
   "outputs": [
    {
     "data": {
      "text/plain": [
       "'knj '"
      ]
     },
     "execution_count": 31,
     "metadata": {},
     "output_type": "execute_result"
    }
   ],
   "source": [
    "krishna+\" \""
   ]
  },
  {
   "cell_type": "code",
   "execution_count": 33,
   "id": "aab5841e-e658-441d-998d-6ffcdc12c051",
   "metadata": {},
   "outputs": [
    {
     "data": {
      "text/plain": [
       "'knj is studying'"
      ]
     },
     "execution_count": 33,
     "metadata": {},
     "output_type": "execute_result"
    }
   ],
   "source": [
    "krishna+\" is studying\" #concatination operation"
   ]
  },
  {
   "cell_type": "code",
   "execution_count": 34,
   "id": "2e126134-6e2a-4ede-89f0-f9fa278fbc01",
   "metadata": {},
   "outputs": [
    {
     "data": {
      "text/plain": [
       "'this is my string classthis is my string class'"
      ]
     },
     "execution_count": 34,
     "metadata": {},
     "output_type": "execute_result"
    }
   ],
   "source": [
    "s1*2 #repeat the string "
   ]
  },
  {
   "cell_type": "code",
   "execution_count": 35,
   "id": "826d782a-494f-4d09-abb5-08ce68c1e1ae",
   "metadata": {},
   "outputs": [
    {
     "data": {
      "text/plain": [
       "'who are u'"
      ]
     },
     "execution_count": 35,
     "metadata": {},
     "output_type": "execute_result"
    }
   ],
   "source": [
    "'who are u' ##do not use cotes inside coates or use different cote btw double and singl cotes"
   ]
  },
  {
   "cell_type": "code",
   "execution_count": 36,
   "id": "4810e7a2-40d1-4a6b-b6f7-a4cc4edeea44",
   "metadata": {},
   "outputs": [
    {
     "data": {
      "text/plain": [
       "'Knj'"
      ]
     },
     "execution_count": 36,
     "metadata": {},
     "output_type": "execute_result"
    }
   ],
   "source": [
    "krishna.title()"
   ]
  },
  {
   "cell_type": "code",
   "execution_count": 37,
   "id": "b5490ef7-96c4-4f72-b1ef-b684db0626a4",
   "metadata": {},
   "outputs": [],
   "source": [
    "krishna=krishna+\" learning data science\""
   ]
  },
  {
   "cell_type": "code",
   "execution_count": 38,
   "id": "3fcd9b30-f7ca-4808-a25a-84ac2c1c0d9b",
   "metadata": {},
   "outputs": [
    {
     "data": {
      "text/plain": [
       "'Knj Learning Data Science'"
      ]
     },
     "execution_count": 38,
     "metadata": {},
     "output_type": "execute_result"
    }
   ],
   "source": [
    "krishna.title()"
   ]
  },
  {
   "cell_type": "code",
   "execution_count": 39,
   "id": "57949b88-3114-4726-ae65-05ea19847a51",
   "metadata": {},
   "outputs": [
    {
     "data": {
      "text/plain": [
       "'nrael jn'"
      ]
     },
     "execution_count": 39,
     "metadata": {},
     "output_type": "execute_result"
    }
   ],
   "source": [
    "krishna[8:0:-1]"
   ]
  },
  {
   "cell_type": "code",
   "execution_count": 40,
   "id": "43150f6d-2bbf-4c0f-8dd3-b2203674b504",
   "metadata": {},
   "outputs": [
    {
     "ename": "AttributeError",
     "evalue": "'str' object has no attribute 'len'",
     "output_type": "error",
     "traceback": [
      "\u001b[31m---------------------------------------------------------------------------\u001b[39m",
      "\u001b[31mAttributeError\u001b[39m                            Traceback (most recent call last)",
      "\u001b[36mCell\u001b[39m\u001b[36m \u001b[39m\u001b[32mIn[40]\u001b[39m\u001b[32m, line 1\u001b[39m\n\u001b[32m----> \u001b[39m\u001b[32m1\u001b[39m \u001b[43mkrishna\u001b[49m\u001b[43m.\u001b[49m\u001b[43mlen\u001b[49m()\n",
      "\u001b[31mAttributeError\u001b[39m: 'str' object has no attribute 'len'"
     ]
    }
   ],
   "source": [
    "krishna.len()"
   ]
  },
  {
   "cell_type": "code",
   "execution_count": 41,
   "id": "285a3790-f9d9-4f5d-9ebb-2fcbf1b70b67",
   "metadata": {},
   "outputs": [
    {
     "data": {
      "text/plain": [
       "25"
      ]
     },
     "execution_count": 41,
     "metadata": {},
     "output_type": "execute_result"
    }
   ],
   "source": [
    "len(krishna) #to find the length of string"
   ]
  },
  {
   "cell_type": "code",
   "execution_count": 42,
   "id": "972bb75b-21fa-46ea-82ef-4f6ff3636db4",
   "metadata": {},
   "outputs": [
    {
     "data": {
      "text/plain": [
       "'ecneics atad gninrael jnk'"
      ]
     },
     "execution_count": 42,
     "metadata": {},
     "output_type": "execute_result"
    }
   ],
   "source": [
    "krishna[::-1] #reverse of string"
   ]
  },
  {
   "cell_type": "code",
   "execution_count": 43,
   "id": "8791715b-7a8a-4bfd-8006-3480d1067314",
   "metadata": {},
   "outputs": [],
   "source": [
    "#bracket k andr single value is indexing bracket with  containing colon called slicing"
   ]
  },
  {
   "cell_type": "code",
   "execution_count": 44,
   "id": "cc8c3076-7931-4eeb-b8db-697408943f38",
   "metadata": {},
   "outputs": [
    {
     "data": {
      "text/plain": [
       "-1"
      ]
     },
     "execution_count": 44,
     "metadata": {},
     "output_type": "execute_result"
    }
   ],
   "source": [
    "#inbuilt function \n",
    "krishna.find(\"loves\")"
   ]
  },
  {
   "cell_type": "code",
   "execution_count": null,
   "id": "4b10e449-3a98-49db-a0e0-5d2eb9d0a2c0",
   "metadata": {},
   "outputs": [],
   "source": []
  }
 ],
 "metadata": {
  "kernelspec": {
   "display_name": "Python 3 (ipykernel)",
   "language": "python",
   "name": "python3"
  },
  "language_info": {
   "codemirror_mode": {
    "name": "ipython",
    "version": 3
   },
   "file_extension": ".py",
   "mimetype": "text/x-python",
   "name": "python",
   "nbconvert_exporter": "python",
   "pygments_lexer": "ipython3",
   "version": "3.13.3"
  }
 },
 "nbformat": 4,
 "nbformat_minor": 5
}
