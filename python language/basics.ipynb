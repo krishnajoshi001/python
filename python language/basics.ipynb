{
 "cells": [
  {
   "cell_type": "code",
   "execution_count": 2,
   "id": "4f5f0dd6",
   "metadata": {},
   "outputs": [
    {
     "name": "stdout",
     "output_type": "stream",
     "text": [
      "hello\n"
     ]
    }
   ],
   "source": [
    "print(\"hello\")"
   ]
  },
  {
   "cell_type": "code",
   "execution_count": 3,
   "id": "0517890d",
   "metadata": {},
   "outputs": [
    {
     "name": "stdout",
     "output_type": "stream",
     "text": [
      "missing you baby\n"
     ]
    }
   ],
   "source": [
    "print(\"missing you baby\")"
   ]
  },
  {
   "cell_type": "code",
   "execution_count": 1,
   "id": "af38617a",
   "metadata": {},
   "outputs": [],
   "source": [
    "t=\"krishna\""
   ]
  },
  {
   "cell_type": "code",
   "execution_count": 2,
   "id": "6e37dfcf",
   "metadata": {},
   "outputs": [
    {
     "data": {
      "text/plain": [
       "str"
      ]
     },
     "execution_count": 2,
     "metadata": {},
     "output_type": "execute_result"
    }
   ],
   "source": [
    "type(t)"
   ]
  },
  {
   "cell_type": "code",
   "execution_count": 3,
   "id": "4d41ce48",
   "metadata": {},
   "outputs": [
    {
     "data": {
      "text/plain": [
       "'i'"
      ]
     },
     "execution_count": 3,
     "metadata": {},
     "output_type": "execute_result"
    }
   ],
   "source": [
    "t[2]"
   ]
  },
  {
   "cell_type": "code",
   "execution_count": 4,
   "id": "9ba6b021",
   "metadata": {},
   "outputs": [
    {
     "data": {
      "text/plain": [
       "'iha'"
      ]
     },
     "execution_count": 4,
     "metadata": {},
     "output_type": "execute_result"
    }
   ],
   "source": [
    "t[2::2]"
   ]
  },
  {
   "cell_type": "code",
   "execution_count": 6,
   "id": "f69ff5ce",
   "metadata": {},
   "outputs": [
    {
     "data": {
      "text/plain": [
       "'kiha'"
      ]
     },
     "execution_count": 6,
     "metadata": {},
     "output_type": "execute_result"
    }
   ],
   "source": [
    "t[::2]"
   ]
  },
  {
   "cell_type": "code",
   "execution_count": 7,
   "id": "822f35a1",
   "metadata": {},
   "outputs": [
    {
     "data": {
      "text/plain": [
       "4"
      ]
     },
     "execution_count": 7,
     "metadata": {},
     "output_type": "execute_result"
    }
   ],
   "source": [
    "t.find('h')"
   ]
  },
  {
   "cell_type": "code",
   "execution_count": 8,
   "id": "0c2f89a1",
   "metadata": {},
   "outputs": [
    {
     "data": {
      "text/plain": [
       "'KRISHNA'"
      ]
     },
     "execution_count": 8,
     "metadata": {},
     "output_type": "execute_result"
    }
   ],
   "source": [
    "t.upper()"
   ]
  },
  {
   "cell_type": "code",
   "execution_count": 9,
   "id": "4d44a9ce",
   "metadata": {},
   "outputs": [
    {
     "data": {
      "text/plain": [
       "'Krishna'"
      ]
     },
     "execution_count": 9,
     "metadata": {},
     "output_type": "execute_result"
    }
   ],
   "source": [
    "t.capitalize()"
   ]
  },
  {
   "cell_type": "code",
   "execution_count": 10,
   "id": "835db4be",
   "metadata": {},
   "outputs": [
    {
     "data": {
      "text/plain": [
       "7"
      ]
     },
     "execution_count": 10,
     "metadata": {},
     "output_type": "execute_result"
    }
   ],
   "source": [
    "len(t)"
   ]
  },
  {
   "cell_type": "code",
   "execution_count": 11,
   "id": "7f7a4639",
   "metadata": {},
   "outputs": [
    {
     "data": {
      "text/plain": [
       "'krishna is learning python'"
      ]
     },
     "execution_count": 11,
     "metadata": {},
     "output_type": "execute_result"
    }
   ],
   "source": [
    "t+\" is learning python\""
   ]
  },
  {
   "cell_type": "code",
   "execution_count": 12,
   "id": "d7c9ca46",
   "metadata": {},
   "outputs": [],
   "source": [
    "l=[1,2,3.4,6+7j,\"jatin\",True]"
   ]
  },
  {
   "cell_type": "code",
   "execution_count": 13,
   "id": "b0d5856d",
   "metadata": {},
   "outputs": [
    {
     "data": {
      "text/plain": [
       "[1, 2, 3.4, (6+7j), 'jatin', True]"
      ]
     },
     "execution_count": 13,
     "metadata": {},
     "output_type": "execute_result"
    }
   ],
   "source": [
    "l"
   ]
  },
  {
   "cell_type": "code",
   "execution_count": 14,
   "id": "1af1a495",
   "metadata": {},
   "outputs": [
    {
     "data": {
      "text/plain": [
       "6"
      ]
     },
     "execution_count": 14,
     "metadata": {},
     "output_type": "execute_result"
    }
   ],
   "source": [
    "len(l)"
   ]
  },
  {
   "cell_type": "code",
   "execution_count": 15,
   "id": "f0020cb8",
   "metadata": {},
   "outputs": [
    {
     "data": {
      "text/plain": [
       "3.4"
      ]
     },
     "execution_count": 15,
     "metadata": {},
     "output_type": "execute_result"
    }
   ],
   "source": [
    "l[2]"
   ]
  },
  {
   "cell_type": "code",
   "execution_count": 16,
   "id": "bac2f2ad",
   "metadata": {},
   "outputs": [
    {
     "data": {
      "text/plain": [
       "'jtn'"
      ]
     },
     "execution_count": 16,
     "metadata": {},
     "output_type": "execute_result"
    }
   ],
   "source": [
    "l[4][::2]"
   ]
  },
  {
   "cell_type": "code",
   "execution_count": 17,
   "id": "2c7c79cf",
   "metadata": {},
   "outputs": [],
   "source": [
    "l.append(\"how was your study going on\")"
   ]
  },
  {
   "cell_type": "code",
   "execution_count": 18,
   "id": "dc1d9e4b",
   "metadata": {},
   "outputs": [
    {
     "data": {
      "text/plain": [
       "[1, 2, 3.4, (6+7j), 'jatin', True, 'how was your study going on']"
      ]
     },
     "execution_count": 18,
     "metadata": {},
     "output_type": "execute_result"
    }
   ],
   "source": [
    "l"
   ]
  },
  {
   "cell_type": "code",
   "execution_count": 19,
   "id": "7eda8fbc",
   "metadata": {},
   "outputs": [],
   "source": [
    "l.extend(\"love\")"
   ]
  },
  {
   "cell_type": "code",
   "execution_count": 20,
   "id": "541f766b",
   "metadata": {},
   "outputs": [
    {
     "data": {
      "text/plain": [
       "[1,\n",
       " 2,\n",
       " 3.4,\n",
       " (6+7j),\n",
       " 'jatin',\n",
       " True,\n",
       " 'how was your study going on',\n",
       " 'l',\n",
       " 'o',\n",
       " 'v',\n",
       " 'e']"
      ]
     },
     "execution_count": 20,
     "metadata": {},
     "output_type": "execute_result"
    }
   ],
   "source": [
    "l"
   ]
  },
  {
   "cell_type": "code",
   "execution_count": 21,
   "id": "ce3edd20",
   "metadata": {},
   "outputs": [],
   "source": [
    "l.remove('l')"
   ]
  },
  {
   "cell_type": "code",
   "execution_count": 22,
   "id": "4fe9e2c2",
   "metadata": {},
   "outputs": [
    {
     "ename": "ValueError",
     "evalue": "list.remove(x): x not in list",
     "output_type": "error",
     "traceback": [
      "\u001b[31m---------------------------------------------------------------------------\u001b[39m",
      "\u001b[31mValueError\u001b[39m                                Traceback (most recent call last)",
      "\u001b[36mCell\u001b[39m\u001b[36m \u001b[39m\u001b[32mIn[22]\u001b[39m\u001b[32m, line 1\u001b[39m\n\u001b[32m----> \u001b[39m\u001b[32m1\u001b[39m \u001b[43ml\u001b[49m\u001b[43m.\u001b[49m\u001b[43mremove\u001b[49m\u001b[43m(\u001b[49m\u001b[33;43m'\u001b[39;49m\u001b[33;43move\u001b[39;49m\u001b[33;43m'\u001b[39;49m\u001b[43m)\u001b[49m\n",
      "\u001b[31mValueError\u001b[39m: list.remove(x): x not in list"
     ]
    }
   ],
   "source": [
    "l.remove('ove')"
   ]
  },
  {
   "cell_type": "code",
   "execution_count": 23,
   "id": "e8f85f4b",
   "metadata": {},
   "outputs": [],
   "source": [
    "l.remove('o')"
   ]
  },
  {
   "cell_type": "code",
   "execution_count": 24,
   "id": "0573eed8",
   "metadata": {},
   "outputs": [],
   "source": [
    "l.insert(3,'list is easy')\n"
   ]
  },
  {
   "cell_type": "code",
   "execution_count": 25,
   "id": "76b9f277",
   "metadata": {},
   "outputs": [
    {
     "data": {
      "text/plain": [
       "[1,\n",
       " 2,\n",
       " 3.4,\n",
       " 'list is easy',\n",
       " (6+7j),\n",
       " 'jatin',\n",
       " True,\n",
       " 'how was your study going on',\n",
       " 'v',\n",
       " 'e']"
      ]
     },
     "execution_count": 25,
     "metadata": {},
     "output_type": "execute_result"
    }
   ],
   "source": [
    "l"
   ]
  },
  {
   "cell_type": "code",
   "execution_count": 26,
   "id": "7df494a9",
   "metadata": {},
   "outputs": [],
   "source": [
    "l.remove('v')"
   ]
  },
  {
   "cell_type": "code",
   "execution_count": 27,
   "id": "65d96a13",
   "metadata": {},
   "outputs": [],
   "source": [
    "l.remove('e')"
   ]
  },
  {
   "cell_type": "code",
   "execution_count": 28,
   "id": "40f564ed",
   "metadata": {},
   "outputs": [
    {
     "data": {
      "text/plain": [
       "[1,\n",
       " 2,\n",
       " 3.4,\n",
       " 'list is easy',\n",
       " (6+7j),\n",
       " 'jatin',\n",
       " True,\n",
       " 'how was your study going on']"
      ]
     },
     "execution_count": 28,
     "metadata": {},
     "output_type": "execute_result"
    }
   ],
   "source": [
    "l"
   ]
  },
  {
   "cell_type": "code",
   "execution_count": 29,
   "id": "13c0859a",
   "metadata": {},
   "outputs": [
    {
     "data": {
      "text/plain": [
       "3.4"
      ]
     },
     "execution_count": 29,
     "metadata": {},
     "output_type": "execute_result"
    }
   ],
   "source": [
    "l.pop(2)\n"
   ]
  },
  {
   "cell_type": "code",
   "execution_count": 30,
   "id": "5e9036b8",
   "metadata": {},
   "outputs": [
    {
     "data": {
      "text/plain": [
       "[1, 2, 'list is easy', (6+7j), 'jatin', True, 'how was your study going on']"
      ]
     },
     "execution_count": 30,
     "metadata": {},
     "output_type": "execute_result"
    }
   ],
   "source": [
    "l"
   ]
  },
  {
   "cell_type": "code",
   "execution_count": 31,
   "id": "22f791c6",
   "metadata": {},
   "outputs": [],
   "source": [
    "t=(1,2,6.5,3+4j,\"tuple\",False)"
   ]
  },
  {
   "cell_type": "code",
   "execution_count": 32,
   "id": "6ca61d8e",
   "metadata": {},
   "outputs": [
    {
     "data": {
      "text/plain": [
       "6"
      ]
     },
     "execution_count": 32,
     "metadata": {},
     "output_type": "execute_result"
    }
   ],
   "source": [
    "len(t)"
   ]
  },
  {
   "cell_type": "code",
   "execution_count": 33,
   "id": "d9df0084",
   "metadata": {},
   "outputs": [
    {
     "ename": "IndexError",
     "evalue": "tuple index out of range",
     "output_type": "error",
     "traceback": [
      "\u001b[31m---------------------------------------------------------------------------\u001b[39m",
      "\u001b[31mIndexError\u001b[39m                                Traceback (most recent call last)",
      "\u001b[36mCell\u001b[39m\u001b[36m \u001b[39m\u001b[32mIn[33]\u001b[39m\u001b[32m, line 1\u001b[39m\n\u001b[32m----> \u001b[39m\u001b[32m1\u001b[39m \u001b[43mt\u001b[49m\u001b[43m[\u001b[49m\u001b[32;43m6\u001b[39;49m\u001b[43m]\u001b[49m\n",
      "\u001b[31mIndexError\u001b[39m: tuple index out of range"
     ]
    }
   ],
   "source": [
    "t[6]"
   ]
  },
  {
   "cell_type": "code",
   "execution_count": 34,
   "id": "72420d00",
   "metadata": {},
   "outputs": [
    {
     "data": {
      "text/plain": [
       "False"
      ]
     },
     "execution_count": 34,
     "metadata": {},
     "output_type": "execute_result"
    }
   ],
   "source": [
    "t[5]"
   ]
  },
  {
   "cell_type": "code",
   "execution_count": 35,
   "id": "3a5b702b",
   "metadata": {},
   "outputs": [
    {
     "data": {
      "text/plain": [
       "'tuple'"
      ]
     },
     "execution_count": 35,
     "metadata": {},
     "output_type": "execute_result"
    }
   ],
   "source": [
    "t[4]"
   ]
  },
  {
   "cell_type": "code",
   "execution_count": 36,
   "id": "3b08d673",
   "metadata": {},
   "outputs": [
    {
     "data": {
      "text/plain": [
       "4"
      ]
     },
     "execution_count": 36,
     "metadata": {},
     "output_type": "execute_result"
    }
   ],
   "source": [
    "t.index('tuple')"
   ]
  },
  {
   "cell_type": "code",
   "execution_count": 37,
   "id": "c798b446",
   "metadata": {},
   "outputs": [],
   "source": [
    "s={1,2,2,2,2,2,3,3,3,4+5j,\"krishna is improving day by day\"}"
   ]
  },
  {
   "cell_type": "code",
   "execution_count": 38,
   "id": "12b7bbd9",
   "metadata": {},
   "outputs": [
    {
     "data": {
      "text/plain": [
       "{(4+5j), 1, 2, 3, 'krishna is improving day by day'}"
      ]
     },
     "execution_count": 38,
     "metadata": {},
     "output_type": "execute_result"
    }
   ],
   "source": [
    "s"
   ]
  },
  {
   "cell_type": "code",
   "execution_count": 39,
   "id": "a26a01fc",
   "metadata": {},
   "outputs": [],
   "source": [
    "s.update(\"who are u\")"
   ]
  },
  {
   "cell_type": "code",
   "execution_count": 40,
   "id": "d1d62851",
   "metadata": {},
   "outputs": [
    {
     "data": {
      "text/plain": [
       "{' ',\n",
       " (4+5j),\n",
       " 1,\n",
       " 2,\n",
       " 3,\n",
       " 'a',\n",
       " 'e',\n",
       " 'h',\n",
       " 'krishna is improving day by day',\n",
       " 'o',\n",
       " 'r',\n",
       " 'u',\n",
       " 'w'}"
      ]
     },
     "execution_count": 40,
     "metadata": {},
     "output_type": "execute_result"
    }
   ],
   "source": [
    "s\n"
   ]
  },
  {
   "cell_type": "code",
   "execution_count": 41,
   "id": "0b51c7a0",
   "metadata": {},
   "outputs": [
    {
     "ename": "TypeError",
     "evalue": "set.pop() takes no arguments (1 given)",
     "output_type": "error",
     "traceback": [
      "\u001b[31m---------------------------------------------------------------------------\u001b[39m",
      "\u001b[31mTypeError\u001b[39m                                 Traceback (most recent call last)",
      "\u001b[36mCell\u001b[39m\u001b[36m \u001b[39m\u001b[32mIn[41]\u001b[39m\u001b[32m, line 1\u001b[39m\n\u001b[32m----> \u001b[39m\u001b[32m1\u001b[39m \u001b[43ms\u001b[49m\u001b[43m.\u001b[49m\u001b[43mpop\u001b[49m\u001b[43m(\u001b[49m\u001b[32;43m2\u001b[39;49m\u001b[43m)\u001b[49m\n",
      "\u001b[31mTypeError\u001b[39m: set.pop() takes no arguments (1 given)"
     ]
    }
   ],
   "source": [
    "s.pop(2)"
   ]
  },
  {
   "cell_type": "code",
   "execution_count": 42,
   "id": "56d4a735",
   "metadata": {},
   "outputs": [
    {
     "data": {
      "text/plain": [
       "1"
      ]
     },
     "execution_count": 42,
     "metadata": {},
     "output_type": "execute_result"
    }
   ],
   "source": [
    "s.pop()"
   ]
  },
  {
   "cell_type": "code",
   "execution_count": 43,
   "id": "cd07ceac",
   "metadata": {},
   "outputs": [],
   "source": [
    "d={'name':\"krishna nand joshi\",'mobile_no.':8949485644,'email':\"krishnanandjoshi001@gmail.com\"}"
   ]
  },
  {
   "cell_type": "code",
   "execution_count": 44,
   "id": "959de074",
   "metadata": {},
   "outputs": [
    {
     "data": {
      "text/plain": [
       "{'name': 'krishna nand joshi',\n",
       " 'mobile_no.': 8949485644,\n",
       " 'email': 'krishnanandjoshi001@gmail.com'}"
      ]
     },
     "execution_count": 44,
     "metadata": {},
     "output_type": "execute_result"
    }
   ],
   "source": [
    "d"
   ]
  },
  {
   "cell_type": "code",
   "execution_count": 45,
   "id": "df5be7a7",
   "metadata": {},
   "outputs": [
    {
     "data": {
      "text/plain": [
       "dict_keys(['name', 'mobile_no.', 'email'])"
      ]
     },
     "execution_count": 45,
     "metadata": {},
     "output_type": "execute_result"
    }
   ],
   "source": [
    "d.keys()\n"
   ]
  },
  {
   "cell_type": "code",
   "execution_count": 48,
   "id": "b9e1e549",
   "metadata": {},
   "outputs": [
    {
     "data": {
      "text/plain": [
       "['krishna nand joshi', 8949485644, 'krishnanandjoshi001@gmail.com']"
      ]
     },
     "execution_count": 48,
     "metadata": {},
     "output_type": "execute_result"
    }
   ],
   "source": [
    "list(d.keys())\n",
    "list(d.values())"
   ]
  },
  {
   "cell_type": "code",
   "execution_count": 49,
   "id": "fbe08ea2",
   "metadata": {},
   "outputs": [
    {
     "data": {
      "text/plain": [
       "['name', 'mobile_no.', 'email']"
      ]
     },
     "execution_count": 49,
     "metadata": {},
     "output_type": "execute_result"
    }
   ],
   "source": [
    "list(d.keys())"
   ]
  },
  {
   "cell_type": "code",
   "execution_count": 50,
   "id": "fc2dd306",
   "metadata": {},
   "outputs": [
    {
     "data": {
      "text/plain": [
       "[('name', 'krishna nand joshi'),\n",
       " ('mobile_no.', 8949485644),\n",
       " ('email', 'krishnanandjoshi001@gmail.com')]"
      ]
     },
     "execution_count": 50,
     "metadata": {},
     "output_type": "execute_result"
    }
   ],
   "source": [
    "list(d.items())"
   ]
  },
  {
   "cell_type": "code",
   "execution_count": 51,
   "id": "7657bbb0",
   "metadata": {},
   "outputs": [],
   "source": [
    "d['mentor']='Tapasya mishra'"
   ]
  },
  {
   "cell_type": "code",
   "execution_count": 52,
   "id": "0416b4c6",
   "metadata": {},
   "outputs": [
    {
     "data": {
      "text/plain": [
       "{'name': 'krishna nand joshi',\n",
       " 'mobile_no.': 8949485644,\n",
       " 'email': 'krishnanandjoshi001@gmail.com',\n",
       " 'mentor': 'Tapasya mishra'}"
      ]
     },
     "execution_count": 52,
     "metadata": {},
     "output_type": "execute_result"
    }
   ],
   "source": [
    "d"
   ]
  },
  {
   "cell_type": "code",
   "execution_count": 53,
   "id": "370bb7f7",
   "metadata": {},
   "outputs": [
    {
     "data": {
      "text/plain": [
       "'krishnanandjoshi001@gmail.com'"
      ]
     },
     "execution_count": 53,
     "metadata": {},
     "output_type": "execute_result"
    }
   ],
   "source": [
    "d.pop('email')"
   ]
  },
  {
   "cell_type": "code",
   "execution_count": 54,
   "id": "e41a202d",
   "metadata": {},
   "outputs": [
    {
     "data": {
      "text/plain": [
       "{'name': 'krishna nand joshi',\n",
       " 'mobile_no.': 8949485644,\n",
       " 'mentor': 'Tapasya mishra'}"
      ]
     },
     "execution_count": 54,
     "metadata": {},
     "output_type": "execute_result"
    }
   ],
   "source": [
    "d"
   ]
  },
  {
   "cell_type": "code",
   "execution_count": 2,
   "id": "bfd7f755",
   "metadata": {},
   "outputs": [],
   "source": [
    "x=int(input(\"enter the date\"))"
   ]
  },
  {
   "cell_type": "code",
   "execution_count": 3,
   "id": "d3abba21",
   "metadata": {},
   "outputs": [
    {
     "data": {
      "text/plain": [
       "2"
      ]
     },
     "execution_count": 3,
     "metadata": {},
     "output_type": "execute_result"
    }
   ],
   "source": [
    "x"
   ]
  },
  {
   "cell_type": "code",
   "execution_count": 4,
   "id": "564a7560",
   "metadata": {},
   "outputs": [
    {
     "name": "stdout",
     "output_type": "stream",
     "text": [
      "the number is odd\n"
     ]
    }
   ],
   "source": [
    "n=int(input(\"enter the number:\"))\n",
    "if n%2==0:\n",
    "    print(\"the number is even\")\n",
    "else:\n",
    "    print(\"the number is odd\")"
   ]
  },
  {
   "cell_type": "code",
   "execution_count": 6,
   "id": "b2be8867",
   "metadata": {},
   "outputs": [
    {
     "name": "stdout",
     "output_type": "stream",
     "text": [
      "i will but that product\n"
     ]
    }
   ],
   "source": [
    "n=int (input(\"Enter the no.\"))\n",
    "if n>1000:\n",
    "    print(\"the cost is very high i will not purchase it\")\n",
    "elif n>100 & n<1000:\n",
    "    print(\"i will but that product\")\n",
    "else:\n",
    "    print(\"the product is very cheap its quality will not be okay\")"
   ]
  },
  {
   "cell_type": "code",
   "execution_count": 7,
   "id": "91f9e561",
   "metadata": {},
   "outputs": [
    {
     "data": {
      "text/plain": [
       "[1, 4, 9, 16, 25, 36, 49, 64, 81, 100]"
      ]
     },
     "execution_count": 7,
     "metadata": {},
     "output_type": "execute_result"
    }
   ],
   "source": [
    "l=[1,2,3,4,5,6,7,8,9,10]\n",
    "l2=[]\n",
    "for i in l:\n",
    "    l2.append(i**2)\n",
    "l2"
   ]
  },
  {
   "cell_type": "code",
   "execution_count": 8,
   "id": "4bd998ed",
   "metadata": {},
   "outputs": [
    {
     "data": {
      "text/plain": [
       "['krishna', 'nand', 'joshi']"
      ]
     },
     "execution_count": 8,
     "metadata": {},
     "output_type": "execute_result"
    }
   ],
   "source": [
    "l=[1,2,3,4,'krishna',5,6,'nand',7,'joshi']\n",
    "l2=[]\n",
    "l3=[]\n",
    "for i in l:\n",
    "    if type(i)==int:\n",
    "        l2.append(i)\n",
    "    else:\n",
    "        l3.append(i)\n",
    "l2\n",
    "l3"
   ]
  },
  {
   "cell_type": "code",
   "execution_count": 9,
   "id": "5d62f5c8",
   "metadata": {},
   "outputs": [
    {
     "name": "stdout",
     "output_type": "stream",
     "text": [
      "('name', 'krishna nand joshi')\n",
      "('mobile_no.', 8949485644)\n",
      "('email', 'krishnanandjoshi001@gmail.com')\n"
     ]
    }
   ],
   "source": [
    "d={'name':\"krishna nand joshi\",'mobile_no.':8949485644,'email':\"krishnanandjoshi001@gmail.com\"}\n",
    "for i in d.items():\n",
    "    print(i)"
   ]
  },
  {
   "cell_type": "code",
   "execution_count": 10,
   "id": "cb4cddd4",
   "metadata": {},
   "outputs": [
    {
     "name": "stdout",
     "output_type": "stream",
     "text": [
      "55\n"
     ]
    }
   ],
   "source": [
    "x=int(input(\"enter the no. upto which u want to find the sum of natural nno.\"))\n",
    "sum=0\n",
    "while x>0:\n",
    "    sum=sum+x\n",
    "    x=x-1\n",
    "print(sum)"
   ]
  },
  {
   "cell_type": "code",
   "execution_count": 12,
   "id": "a74e93bf",
   "metadata": {},
   "outputs": [
    {
     "name": "stdout",
     "output_type": "stream",
     "text": [
      "720\n"
     ]
    }
   ],
   "source": [
    "x=int(input(\"enter the no. whose factorial u want to find\"))\n",
    "fact=1\n",
    "while x>1:\n",
    "    fact=fact*x\n",
    "    x=x-1\n",
    "print(fact)"
   ]
  },
  {
   "cell_type": "code",
   "execution_count": 14,
   "id": "7e45ab9f",
   "metadata": {},
   "outputs": [
    {
     "name": "stdout",
     "output_type": "stream",
     "text": [
      "0 1 1 2 3 5 8 13 21 34 "
     ]
    }
   ],
   "source": [
    "x=int(input(\"enter the no. of digits of fibbo series u want to print\"))\n",
    "a=0\n",
    "b=1\n",
    "c=1\n",
    "for i in range(x):\n",
    "    print(a,end=\" \")\n",
    "    b=a+b\n",
    "    a=c\n",
    "    c=b\n"
   ]
  },
  {
   "cell_type": "code",
   "execution_count": 16,
   "id": "94fa1d9b",
   "metadata": {},
   "outputs": [],
   "source": [
    "def test():\n",
    "    print(\"krishna is on track. now\")"
   ]
  },
  {
   "cell_type": "code",
   "execution_count": 17,
   "id": "ae9ef02c",
   "metadata": {},
   "outputs": [
    {
     "name": "stdout",
     "output_type": "stream",
     "text": [
      "krishna is on track. now\n"
     ]
    }
   ],
   "source": [
    "test()"
   ]
  },
  {
   "cell_type": "code",
   "execution_count": 18,
   "id": "ed57b4d8",
   "metadata": {},
   "outputs": [],
   "source": [
    "def test():\n",
    "    return \"now it is personal\""
   ]
  },
  {
   "cell_type": "code",
   "execution_count": 19,
   "id": "e23d4e62",
   "metadata": {},
   "outputs": [
    {
     "data": {
      "text/plain": [
       "'now it is personal'"
      ]
     },
     "execution_count": 19,
     "metadata": {},
     "output_type": "execute_result"
    }
   ],
   "source": [
    "test()"
   ]
  },
  {
   "cell_type": "code",
   "execution_count": 20,
   "id": "598905ef",
   "metadata": {},
   "outputs": [],
   "source": [
    "def power(a,b):\n",
    "    return a**b"
   ]
  },
  {
   "cell_type": "code",
   "execution_count": 21,
   "id": "31c71d79",
   "metadata": {},
   "outputs": [
    {
     "name": "stdout",
     "output_type": "stream",
     "text": [
      "8\n"
     ]
    }
   ],
   "source": [
    "x=power(2,3)\n",
    "print(x)"
   ]
  },
  {
   "cell_type": "code",
   "execution_count": 23,
   "id": "9f0e5a00",
   "metadata": {},
   "outputs": [
    {
     "data": {
      "text/plain": [
       "4"
      ]
     },
     "execution_count": 23,
     "metadata": {},
     "output_type": "execute_result"
    }
   ],
   "source": [
    "def greatest(a,b,c):\n",
    "    if a>b & a>c:\n",
    "        return a\n",
    "    elif b>c & b>a:\n",
    "        return b\n",
    "    else:\n",
    "        return c\n",
    "greatest(2,3,4)\n",
    "    "
   ]
  },
  {
   "cell_type": "code",
   "execution_count": 27,
   "id": "99ffec9e",
   "metadata": {},
   "outputs": [
    {
     "name": "stdout",
     "output_type": "stream",
     "text": [
      "[1, 2, 1, 2, 3, 4, 5]\n"
     ]
    }
   ],
   "source": [
    "l=[1,2,3.4,6+7j,\"jatin\",[1,2,3,4,5],True]\n",
    "l1=[]\n",
    "for i in l:\n",
    "    if type(i)==list:\n",
    "        for j in i:\n",
    "            if type(j)==int:\n",
    "                l1.append(j)\n",
    "    if type(i)==int:\n",
    "        l1.append(i)\n",
    "print(l1)"
   ]
  },
  {
   "cell_type": "code",
   "execution_count": 28,
   "id": "d7a64e7a",
   "metadata": {},
   "outputs": [
    {
     "data": {
      "text/plain": [
       "(1, 2, 3, 4, 5, 'krishna', [1, 2, 3], 6.7)"
      ]
     },
     "execution_count": 28,
     "metadata": {},
     "output_type": "execute_result"
    }
   ],
   "source": [
    "def dyn(*parameters):\n",
    "    return parameters\n",
    "dyn(1,2,3,4,5,\"krishna\",[1,2,3],6.7)"
   ]
  },
  {
   "cell_type": "code",
   "execution_count": 29,
   "id": "3fd5fda1",
   "metadata": {},
   "outputs": [
    {
     "name": "stdout",
     "output_type": "stream",
     "text": [
      "15\n"
     ]
    }
   ],
   "source": [
    "def sumpara(*para):\n",
    "    sum=0\n",
    "    for i in para:\n",
    "        sum=sum+i\n",
    "    print(sum)\n",
    "sumpara(1,2,3,4,5)\n",
    "        "
   ]
  },
  {
   "cell_type": "code",
   "execution_count": null,
   "id": "cdc74f45",
   "metadata": {},
   "outputs": [
    {
     "name": "stdout",
     "output_type": "stream",
     "text": [
      "0 1 1 2 3 5 8 13 21 34 "
     ]
    }
   ],
   "source": [
    "def fibbo():\n",
    "    a,b=0,1\n",
    "    while True:\n",
    "        yield a\n",
    "        a,b=b,a+b\n",
    "x=int(input(\"enter how many terms of fibbo series u want to print:\"))\n",
    "f=fibbo() \n",
    "for i in range(x):\n",
    "    print(next(f),end=\" \")\n",
    "        "
   ]
  },
  {
   "cell_type": "code",
   "execution_count": 32,
   "id": "7b88acd5",
   "metadata": {},
   "outputs": [
    {
     "data": {
      "text/plain": [
       "['1', '2', '3', '4', '5', '6', '7', '8', '9']"
      ]
     },
     "execution_count": 32,
     "metadata": {},
     "output_type": "execute_result"
    }
   ],
   "source": [
    "l=[]\n",
    "l.extend(\"123456789\")\n",
    "l"
   ]
  },
  {
   "cell_type": "code",
   "execution_count": 33,
   "id": "88c04745",
   "metadata": {},
   "outputs": [
    {
     "data": {
      "text/plain": [
       "27"
      ]
     },
     "execution_count": 33,
     "metadata": {},
     "output_type": "execute_result"
    }
   ],
   "source": [
    "cube=lambda x:x**3\n",
    "cube(3)"
   ]
  },
  {
   "cell_type": "code",
   "execution_count": 34,
   "id": "726a6f8f",
   "metadata": {},
   "outputs": [
    {
     "data": {
      "text/plain": [
       "4"
      ]
     },
     "execution_count": 34,
     "metadata": {},
     "output_type": "execute_result"
    }
   ],
   "source": [
    "max=lambda x,y: x if x>y  else y\n",
    "max(3,4)"
   ]
  },
  {
   "cell_type": "code",
   "execution_count": 35,
   "id": "0dcdf6f0",
   "metadata": {},
   "outputs": [
    {
     "data": {
      "text/plain": [
       "[1, 4, 9, 16, 25]"
      ]
     },
     "execution_count": 35,
     "metadata": {},
     "output_type": "execute_result"
    }
   ],
   "source": [
    "a=lambda x : x**2 \n",
    "l=[1,2,3,4,5]\n",
    "list(map(a,l))"
   ]
  },
  {
   "cell_type": "code",
   "execution_count": 36,
   "id": "c31977b2",
   "metadata": {},
   "outputs": [
    {
     "data": {
      "text/plain": [
       "[7, 9, 11, 13, 15]"
      ]
     },
     "execution_count": 36,
     "metadata": {},
     "output_type": "execute_result"
    }
   ],
   "source": [
    "l=[1,2,3,4,5]\n",
    "l1=[6,7,8,9,10]\n",
    "list(map(lambda x,y :x+y,l,l1))"
   ]
  },
  {
   "cell_type": "code",
   "execution_count": 37,
   "id": "29e2ed47",
   "metadata": {},
   "outputs": [
    {
     "data": {
      "text/plain": [
       "5"
      ]
     },
     "execution_count": 37,
     "metadata": {},
     "output_type": "execute_result"
    }
   ],
   "source": [
    "from functools import reduce\n",
    "l=[1,2,3,4,5]\n",
    "reduce(lambda x,y:x if x>y else y,l)"
   ]
  },
  {
   "cell_type": "code",
   "execution_count": null,
   "id": "a573c58a",
   "metadata": {},
   "outputs": [
    {
     "data": {
      "text/plain": [
       "[2, 4]"
      ]
     },
     "execution_count": 39,
     "metadata": {},
     "output_type": "execute_result"
    }
   ],
   "source": [
    "l=[1,2,3,4,5]\n",
    "list(filter(lambda x: x % 2==0 , l))"
   ]
  },
  {
   "cell_type": "code",
   "execution_count": null,
   "id": "079f4e36",
   "metadata": {},
   "outputs": [],
   "source": []
  }
 ],
 "metadata": {
  "kernelspec": {
   "display_name": ".venv (3.14.0)",
   "language": "python",
   "name": "python3"
  },
  "language_info": {
   "codemirror_mode": {
    "name": "ipython",
    "version": 3
   },
   "file_extension": ".py",
   "mimetype": "text/x-python",
   "name": "python",
   "nbconvert_exporter": "python",
   "pygments_lexer": "ipython3",
   "version": "3.14.0"
  }
 },
 "nbformat": 4,
 "nbformat_minor": 5
}
